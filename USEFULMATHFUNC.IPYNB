{
 "cells": [
  {
   "cell_type": "markdown",
   "metadata": {},
   "source": [
    "MATHS FUNCTIONS SUCH AS MAXIMUNM,MINIMUM,SUM,LEN,AVERAGE ARE USEFUL IN PYTHON WHICH YOU NEED TO MASTER A BIT "
   ]
  },
  {
   "cell_type": "code",
   "execution_count": 2,
   "metadata": {},
   "outputs": [],
   "source": [
    "my_numbers=[ 4,7,8,3,4,56,34,23,76] #a alot of number we wantto usrd some functions to determined"
   ]
  },
  {
   "cell_type": "code",
   "execution_count": 5,
   "metadata": {},
   "outputs": [
    {
     "name": "stdout",
     "output_type": "stream",
     "text": [
      "the largest number is  76\n"
     ]
    }
   ],
   "source": [
    "print(f\"the largest number is \",max(my_numbers))  # THE MAXIMUN VALUE IN THE LIST"
   ]
  },
  {
   "cell_type": "code",
   "execution_count": 6,
   "metadata": {},
   "outputs": [
    {
     "name": "stdout",
     "output_type": "stream",
     "text": [
      "the smallest  number is  3\n"
     ]
    }
   ],
   "source": [
    "print(f\"the smallest  number is \",min(my_numbers))    #THE MINIMUM VALUE IN THE LIST"
   ]
  },
  {
   "cell_type": "code",
   "execution_count": 7,
   "metadata": {},
   "outputs": [
    {
     "name": "stdout",
     "output_type": "stream",
     "text": [
      "the total sum of the number is  215\n"
     ]
    }
   ],
   "source": [
    "print(f\"the total sum of the number is \",sum(my_numbers))  # THE TOTAL SU OF THE VALUES IN THE LIST"
   ]
  },
  {
   "cell_type": "code",
   "execution_count": 8,
   "metadata": {},
   "outputs": [
    {
     "name": "stdout",
     "output_type": "stream",
     "text": [
      "the length of the list  is  9\n"
     ]
    }
   ],
   "source": [
    "print(f\"the length of the list  is \",len(my_numbers))   # THE TOTAL LENGTH OF VALUES"
   ]
  },
  {
   "cell_type": "code",
   "execution_count": 9,
   "metadata": {},
   "outputs": [
    {
     "name": "stdout",
     "output_type": "stream",
     "text": [
      "the average of the list is   23.88888888888889\n"
     ]
    }
   ],
   "source": [
    "print(f\"the average of the list is  \",sum(my_numbers)/len(my_numbers)) # THE AVEARAGE VALUES"
   ]
  }
 ],
 "metadata": {
  "kernelspec": {
   "display_name": "Python 3",
   "language": "python",
   "name": "python3"
  },
  "language_info": {
   "codemirror_mode": {
    "name": "ipython",
    "version": 3
   },
   "file_extension": ".py",
   "mimetype": "text/x-python",
   "name": "python",
   "nbconvert_exporter": "python",
   "pygments_lexer": "ipython3",
   "version": "3.12.0"
  }
 },
 "nbformat": 4,
 "nbformat_minor": 2
}
